{
  "nbformat": 4,
  "nbformat_minor": 0,
  "metadata": {
    "colab": {
      "provenance": [],
      "collapsed_sections": [],
      "include_colab_link": true
    },
    "kernelspec": {
      "name": "python3",
      "display_name": "Python 3"
    }
  },
  "cells": [
    {
      "cell_type": "markdown",
      "metadata": {
        "id": "view-in-github",
        "colab_type": "text"
      },
      "source": [
        "<a href=\"https://colab.research.google.com/github/prachikane/final_year_project/blob/main/ARIMA_DAY_WISE.ipynb\" target=\"_parent\"><img src=\"https://colab.research.google.com/assets/colab-badge.svg\" alt=\"Open In Colab\"/></a>"
      ]
    },
    {
      "cell_type": "markdown",
      "metadata": {
        "id": "hYD1PPT2EBRI"
      },
      "source": [
        "# **ARIMA Model**"
      ]
    },
    {
      "cell_type": "code",
      "metadata": {
        "id": "vnRbGlXVxwol",
        "outputId": "b682373a-01fb-40bb-b090-5db8f168200d",
        "colab": {
          "base_uri": "https://localhost:8080/"
        }
      },
      "source": [
        "import pandas as pd\n",
        "import matplotlib.pyplot as plt\n",
        "from statsmodels.tsa.stattools import adfuller\n",
        "import numpy as np\n",
        "from google.colab import drive\n",
        "from sklearn.metrics import mean_squared_error"
      ],
      "execution_count": null,
      "outputs": [
        {
          "output_type": "stream",
          "text": [
            "/usr/local/lib/python3.6/dist-packages/statsmodels/tools/_testing.py:19: FutureWarning: pandas.util.testing is deprecated. Use the functions in the public API at pandas.testing instead.\n",
            "  import pandas.util.testing as tm\n"
          ],
          "name": "stderr"
        }
      ]
    },
    {
      "cell_type": "code",
      "metadata": {
        "id": "NcgNTFj-Xovq"
      },
      "source": [
        "from google.colab import drive\n",
        "drive.mount('/content/drive')"
      ],
      "execution_count": null,
      "outputs": []
    },
    {
      "cell_type": "code",
      "metadata": {
        "id": "aNzAZdaW_7Td"
      },
      "source": [
        "from google.colab import drive \n",
        "drive.mount('/content/gdrive')"
      ],
      "execution_count": null,
      "outputs": []
    },
    {
      "cell_type": "markdown",
      "metadata": {
        "id": "lsjRwggPEMgq"
      },
      "source": [
        "## **Reading Data** **and**  **Data Preprocessing**"
      ]
    },
    {
      "cell_type": "code",
      "metadata": {
        "id": "jJyAkkWeAYOb"
      },
      "source": [
        "df=pd.read_csv('/content/gdrive/My Drive/Colab Notebooks/TCS.csv')"
      ],
      "execution_count": null,
      "outputs": []
    },
    {
      "cell_type": "code",
      "metadata": {
        "id": "SwFiqiq6EMw2"
      },
      "source": [
        "df=df[['Close','Date']]"
      ],
      "execution_count": null,
      "outputs": []
    },
    {
      "cell_type": "code",
      "metadata": {
        "id": "AUy1NuUTFEbD"
      },
      "source": [
        "df.to_csv('New_TCS')\n",
        "df.head()"
      ],
      "execution_count": null,
      "outputs": []
    },
    {
      "cell_type": "code",
      "metadata": {
        "id": "F2wsL9WJFMtI"
      },
      "source": [
        "df.dtypes"
      ],
      "execution_count": null,
      "outputs": []
    },
    {
      "cell_type": "code",
      "metadata": {
        "id": "nChrL9R0Fmis"
      },
      "source": [
        "dateparse = lambda dates: pd.datetime.strptime(dates, '%Y-%m-%d')"
      ],
      "execution_count": null,
      "outputs": []
    },
    {
      "cell_type": "code",
      "metadata": {
        "id": "zfjH-6-kGY8I"
      },
      "source": [
        "data = pd.read_csv('/content/New_TCS', parse_dates=['Date'], index_col='Date',date_parser=dateparse)"
      ],
      "execution_count": null,
      "outputs": []
    },
    {
      "cell_type": "code",
      "metadata": {
        "id": "w3ARMtlnHQV5"
      },
      "source": [
        "data.head()"
      ],
      "execution_count": null,
      "outputs": []
    },
    {
      "cell_type": "code",
      "metadata": {
        "id": "d1wUOGxBHDav"
      },
      "source": [
        "data=data[['Close']]\n",
        "data.head()"
      ],
      "execution_count": null,
      "outputs": []
    },
    {
      "cell_type": "code",
      "metadata": {
        "id": "V5RamfZhHU47"
      },
      "source": [
        "plt.plot(data)"
      ],
      "execution_count": null,
      "outputs": []
    },
    {
      "cell_type": "code",
      "metadata": {
        "id": "PH7r9usl7ALN"
      },
      "source": [
        "data.size"
      ],
      "execution_count": null,
      "outputs": []
    },
    {
      "cell_type": "markdown",
      "metadata": {
        "id": "TI3PYH4iEUY4"
      },
      "source": [
        "### **Checking Stationarity**"
      ]
    },
    {
      "cell_type": "code",
      "metadata": {
        "id": "AbT2ERMpHsrI"
      },
      "source": [
        "def test_stationarity(timeseries):\n",
        "    \n",
        "    #Determing rolling statistics\n",
        "    rolmean = timeseries.rolling(200).mean()\n",
        "    rolstd = timeseries.rolling(200).std()\n",
        "\n",
        "    #Plot rolling statistics:\n",
        "    orig = plt.plot(timeseries, color='blue',label='Original')\n",
        "    mean = plt.plot(rolmean, color='red', label='Rolling Mean')\n",
        "    std = plt.plot(rolstd, color='black', label = 'Rolling Std')\n",
        "    plt.legend(loc='best')\n",
        "    plt.title('Rolling Mean & Standard Deviation')\n",
        "    plt.show(block=False)\n",
        "\n",
        "    #Perform Dickey-Fuller test:\n",
        "    print ('Results of Dickey-Fuller Test:')\n",
        "    dicky_fuller_test(timeseries,200,timeseries.size)"
      ],
      "execution_count": null,
      "outputs": []
    },
    {
      "cell_type": "code",
      "metadata": {
        "id": "TekpI4NhIzCT"
      },
      "source": [
        "def dicky_fuller_test(timeseries,l,r):\n",
        "  X=timeseries[\"Close\"]\n",
        "  #print(X.size)\n",
        "  if r<X.size :\n",
        "    result=adfuller(X[l:r])\n",
        "  else:\n",
        "    result=adfuller(X[l:X.size])\n",
        "    r=X.size\n",
        "  print('\\n\\nFor range %d,%d ' %(l,r))\n",
        "  print('ADF statistic: %f' % result[0])\n",
        "  print('p-value: %f' % result[1])\n",
        "  print('Critical Values: ')\n",
        "  for key,value in result[4].items():\n",
        "    print('\\t%s: %.3f' %(key,value))\n",
        "  \n",
        "  if result[0]<result[4]['5%']:\n",
        "    print ('Time Series is Stationary')\n",
        "  else:\n",
        "    print ('Time Series is not Stationary')\n",
        "    "
      ],
      "execution_count": null,
      "outputs": []
    },
    {
      "cell_type": "code",
      "metadata": {
        "id": "nv-Gv3x6JH1I"
      },
      "source": [
        "test_stationarity(data)"
      ],
      "execution_count": null,
      "outputs": []
    },
    {
      "cell_type": "markdown",
      "metadata": {
        "id": "RznIr78wEcMn"
      },
      "source": [
        "## **Making the Data Stationary**"
      ]
    },
    {
      "cell_type": "markdown",
      "metadata": {
        "id": "k-HGS7_JEftP"
      },
      "source": [
        "### **Applying Log**"
      ]
    },
    {
      "cell_type": "code",
      "metadata": {
        "id": "m6Eil1lUJj7K"
      },
      "source": [
        "#trying to make data stationary by applying log\n",
        "ts_log=np.log(data)\n",
        "plt.plot(ts_log)"
      ],
      "execution_count": null,
      "outputs": []
    },
    {
      "cell_type": "code",
      "metadata": {
        "id": "-7wjk47tADfw"
      },
      "source": [
        "rolmean = ts_log.rolling(10).mean()\n",
        "plt.plot(ts_log)\n",
        "plt.plot(rolmean, color='red')\n",
        "diff_ts_log_rolmean=ts_log-rolmean\n",
        "diff_ts_log_rolmean.head()"
      ],
      "execution_count": null,
      "outputs": []
    },
    {
      "cell_type": "code",
      "metadata": {
        "id": "e9ZgNAvJAn9A"
      },
      "source": [
        "diff_ts_log_rolmean.dropna(inplace=True)\n",
        "test_stationarity(diff_ts_log_rolmean)"
      ],
      "execution_count": null,
      "outputs": []
    },
    {
      "cell_type": "markdown",
      "metadata": {
        "id": "JxcAbEXYEmgq"
      },
      "source": [
        "### **Applying Exponentially Weighted Moving Average(EWMA)**"
      ]
    },
    {
      "cell_type": "code",
      "metadata": {
        "id": "qoh-3PCvBsWQ"
      },
      "source": [
        "##trying exponentially weighted moving average \n",
        "expweighted_avg=ts_log.ewm(halflife=1).mean()\n",
        "plt.plot(ts_log)\n",
        "plt.plot(expweighted_avg, color='red')"
      ],
      "execution_count": null,
      "outputs": []
    },
    {
      "cell_type": "code",
      "metadata": {
        "id": "ynt2ZgFEGJro"
      },
      "source": [
        "diff_ts_log_exp=ts_log-expweighted_avg\n",
        "diff_ts_log_exp.head()"
      ],
      "execution_count": null,
      "outputs": []
    },
    {
      "cell_type": "code",
      "metadata": {
        "id": "F_naKoMtGTuL"
      },
      "source": [
        "test_stationarity(diff_ts_log_exp)"
      ],
      "execution_count": null,
      "outputs": []
    },
    {
      "cell_type": "markdown",
      "metadata": {
        "id": "32xeJ2NHErhh"
      },
      "source": [
        "### **Performing difference**"
      ]
    },
    {
      "cell_type": "code",
      "metadata": {
        "id": "6sN_rqi4eNq7"
      },
      "source": [
        "ts_log_diff = ts_log - ts_log.shift()\n",
        "plt.plot(ts_log_diff)"
      ],
      "execution_count": null,
      "outputs": []
    },
    {
      "cell_type": "code",
      "metadata": {
        "id": "FsysaFcVeTjh"
      },
      "source": [
        "ts_log_diff.dropna(inplace=True)\n",
        "test_stationarity(ts_log_diff)"
      ],
      "execution_count": null,
      "outputs": []
    },
    {
      "cell_type": "markdown",
      "metadata": {
        "id": "nuZ2JJRlEu9_"
      },
      "source": [
        "## **Removing Seasonality and Trend**"
      ]
    },
    {
      "cell_type": "code",
      "metadata": {
        "id": "pnC_m1JWebiJ"
      },
      "source": [
        "from statsmodels.tsa.seasonal import seasonal_decompose"
      ],
      "execution_count": null,
      "outputs": []
    },
    {
      "cell_type": "code",
      "metadata": {
        "id": "cuDnjllaeg6J"
      },
      "source": [
        "decomposition = seasonal_decompose(ts_log,freq=10)\n",
        "\n",
        "trend = decomposition.trend\n",
        "seasonal = decomposition.seasonal\n",
        "residual = decomposition.resid\n",
        "\n",
        "plt.subplot(411)\n",
        "plt.plot(ts_log, label='Original')\n",
        "plt.legend(loc='best')\n",
        "plt.subplot(412)\n",
        "plt.plot(trend, label='Trend')\n",
        "plt.legend(loc='best')\n",
        "plt.subplot(413)\n",
        "plt.plot(seasonal,label='Seasonality')\n",
        "plt.legend(loc='best')\n",
        "plt.subplot(414)\n",
        "plt.plot(residual, label='Residuals')\n",
        "plt.legend(loc='best')\n",
        "plt.tight_layout()"
      ],
      "execution_count": null,
      "outputs": []
    },
    {
      "cell_type": "code",
      "metadata": {
        "id": "hj3d39l4eobt"
      },
      "source": [
        "ts_log_decompose = residual\n",
        "ts_log_decompose.dropna(inplace=True)\n",
        "test_stationarity(ts_log_decompose)"
      ],
      "execution_count": null,
      "outputs": []
    },
    {
      "cell_type": "markdown",
      "metadata": {
        "id": "rAgiODnGE8C0"
      },
      "source": [
        "## **Determining the hyperparameter p,d,q**"
      ]
    },
    {
      "cell_type": "code",
      "metadata": {
        "id": "5nbk5e1Je1GL"
      },
      "source": [
        "#ACF and PACF plots:\n",
        "#auto correlation graph and partial correlational graph for finding p and q\n",
        "\n",
        "from statsmodels.tsa.stattools import acf, pacf\n",
        "lag_acf = acf(ts_log_diff[0:500], nlags=50)\n",
        "lag_pacf = pacf(ts_log_diff[0:500], nlags=50, method='ols')"
      ],
      "execution_count": null,
      "outputs": []
    },
    {
      "cell_type": "code",
      "metadata": {
        "id": "W3HA0XRye6TD"
      },
      "source": [
        "#Plot PACF:\n",
        "\n",
        "plt.plot(lag_pacf)\n",
        "plt.axhline(y=0,linestyle='--',color='gray')\n",
        "plt.axhline(y=-1.96/np.sqrt(len(ts_log_diff[0:500])),linestyle='--',color='gray')\n",
        "plt.axhline(y=1.96/np.sqrt(len(ts_log_diff[0:500])),linestyle='--',color='gray')\n",
        "plt.title('Partial Autocorrelation Function')\n",
        "#p=1(approx)"
      ],
      "execution_count": null,
      "outputs": []
    },
    {
      "cell_type": "code",
      "metadata": {
        "id": "dhLV4-ASfJKF"
      },
      "source": [
        "#Plot ACF: \n",
        "\n",
        "plt.plot(lag_acf)\n",
        "plt.axhline(y=0,linestyle='--',color='gray')\n",
        "plt.axhline(y=-1.96/np.sqrt(len(ts_log_diff[0:500])),linestyle='--',color='gray')\n",
        "plt.axhline(y=1.96/np.sqrt(len(ts_log_diff[0:500])),linestyle='--',color='gray')\n",
        "plt.title('Autocorrelation Function')\n",
        "#q=1(approx)"
      ],
      "execution_count": null,
      "outputs": []
    },
    {
      "cell_type": "markdown",
      "metadata": {
        "id": "5rSfyto_FEkj"
      },
      "source": [
        "## **Training ARIMA Model**"
      ]
    },
    {
      "cell_type": "code",
      "metadata": {
        "id": "CIcgwqrIfXbC"
      },
      "source": [
        "from statsmodels.tsa.arima_model import ARIMA"
      ],
      "execution_count": null,
      "outputs": []
    },
    {
      "cell_type": "code",
      "metadata": {
        "id": "ZWET6sDbfQdE"
      },
      "source": [
        "\n",
        "model = ARIMA(ts_log, order=(1, 2, 1))  \n",
        "results_ARIMA = model.fit(disp=-1)  \n",
        "plt.plot(ts_log_diff)\n",
        "plt.plot(results_ARIMA.fittedvalues, color='red')\n",
        "#plt.title('RSS: %.4f'% sum((results_ARIMA.fittedvalues-ts_log_diff[0:500])**2))"
      ],
      "execution_count": null,
      "outputs": []
    },
    {
      "cell_type": "code",
      "metadata": {
        "id": "753VHK0EgDeF"
      },
      "source": [
        "plt.plot(data)"
      ],
      "execution_count": null,
      "outputs": []
    },
    {
      "cell_type": "markdown",
      "metadata": {
        "id": "32DjUZY9GATM"
      },
      "source": [
        "## **Bringing the data back to non-stationary** "
      ]
    },
    {
      "cell_type": "code",
      "metadata": {
        "id": "qIYmYM4ggE0F"
      },
      "source": [
        "predictions_ARIMA_diff = pd.Series(results_ARIMA.fittedvalues, copy=True)\n",
        "#print predictions_ARIMA_diff.head()\n",
        "predictions_ARIMA_diff_cumsum = predictions_ARIMA_diff.cumsum()\n",
        "#print predictions_ARIMA_diff_cumsum.head()\n",
        "predictions_ARIMA_log = pd.Series(ts_log.iloc[:,0], index=ts_log.index)\n",
        "predictions_ARIMA_log = predictions_ARIMA_log.add(predictions_ARIMA_diff_cumsum,fill_value=0)\n",
        "predictions_ARIMA = np.exp(predictions_ARIMA_log)\n",
        "plt.plot(data, color='blue')\n",
        "plt.plot(predictions_ARIMA,color=\"orange\")"
      ],
      "execution_count": null,
      "outputs": []
    },
    {
      "cell_type": "code",
      "metadata": {
        "id": "Bx0RJWWdmath"
      },
      "source": [
        "from math import sqrt\n",
        "from sklearn.metrics import mean_squared_error\n",
        "\n",
        "rms = sqrt(mean_squared_error(data,predictions_ARIMA))\n",
        "print(rms)"
      ],
      "execution_count": null,
      "outputs": []
    }
  ]
}