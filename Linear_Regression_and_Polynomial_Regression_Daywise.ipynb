{
  "nbformat": 4,
  "nbformat_minor": 0,
  "metadata": {
    "kernelspec": {
      "display_name": "Python",
      "language": "python",
      "name": "conda-env-python-py"
    },
    "language_info": {
      "codemirror_mode": {
        "name": "ipython",
        "version": 3
      },
      "file_extension": ".py",
      "mimetype": "text/x-python",
      "name": "python",
      "nbconvert_exporter": "python",
      "pygments_lexer": "ipython3",
      "version": "3.6.10"
    },
    "colab": {
      "provenance": [],
      "collapsed_sections": [],
      "include_colab_link": true
    }
  },
  "cells": [
    {
      "cell_type": "markdown",
      "metadata": {
        "id": "view-in-github",
        "colab_type": "text"
      },
      "source": [
        "<a href=\"https://colab.research.google.com/github/prachikane/final_year_project/blob/main/Linear_Regression_and_Polynomial_Regression_Daywise.ipynb\" target=\"_parent\"><img src=\"https://colab.research.google.com/assets/colab-badge.svg\" alt=\"Open In Colab\"/></a>"
      ]
    },
    {
      "cell_type": "code",
      "metadata": {
        "id": "GI-3phcYlp6j"
      },
      "source": [
        "from google.colab import drive\n",
        "drive.mount('/content/drive')"
      ],
      "execution_count": null,
      "outputs": []
    },
    {
      "cell_type": "code",
      "metadata": {
        "id": "9sM-KpVMVRya"
      },
      "source": [
        "import pandas as pd"
      ],
      "execution_count": null,
      "outputs": []
    },
    {
      "cell_type": "markdown",
      "metadata": {
        "id": "cvoyzxXZmws2"
      },
      "source": [
        "# **Reading Data**\n",
        "\n",
        "---\n",
        "\n",
        "\n",
        "\n",
        "---\n",
        "\n",
        "[link text](https://)"
      ]
    },
    {
      "cell_type": "code",
      "metadata": {
        "id": "YG9sbsAgVRye"
      },
      "source": [
        "df=pd.read_csv('/content/drive/MyDrive/ColabNotebooks/ASIANPAINT.csv')"
      ],
      "execution_count": null,
      "outputs": []
    },
    {
      "cell_type": "code",
      "metadata": {
        "id": "gP9cIUllVRyh"
      },
      "source": [
        "df.head()"
      ],
      "execution_count": null,
      "outputs": []
    },
    {
      "cell_type": "code",
      "metadata": {
        "id": "E9jAakdnPCGf"
      },
      "source": [
        "from datetime import datetime\n",
        "def dateToIndex(input_date):\n",
        "    date_extract = df['Date']\n",
        "    print(date_extract)\n",
        "    base_date = date_extract[0]\n",
        "    base_date = datetime.strptime(base_date,'%Y-%m-%d')\n",
        "    print(base_date)\n",
        "    next_date = input_date\n",
        "    next_date = datetime.strptime(next_date,'%Y-%m-%d')\n",
        "    print(next_date)\n",
        "    delta = str(next_date - base_date)\n",
        "    delta = delta[:-14]\n",
        "    delta = int(delta) - date_extract.size\n",
        "    print(delta)\n",
        "    return delta\n",
        "\n",
        "index = dateToIndex('2020-10-01')\n",
        "print(index)"
      ],
      "execution_count": null,
      "outputs": []
    },
    {
      "cell_type": "markdown",
      "metadata": {
        "id": "ydKYEQ-QnVEY"
      },
      "source": [
        "# **Data Preprocessing**"
      ]
    },
    {
      "cell_type": "code",
      "metadata": {
        "id": "3pkxrwvqVRyl"
      },
      "source": [
        "df.rename(columns={'Prev Close':'Prev_Close','Deliverable Volume':'Deliverable_Volume','%Deliverble':'%Deliverable'},inplace=True)\n",
        "df.head()"
      ],
      "execution_count": null,
      "outputs": []
    },
    {
      "cell_type": "code",
      "metadata": {
        "id": "xxGl0hGCVRyo"
      },
      "source": [
        "df=df[['Prev_Close','Open','High','Low','Close','VWAP','Volume','Turnover','Deliverable_Volume','%Deliverable']]"
      ],
      "execution_count": null,
      "outputs": []
    },
    {
      "cell_type": "markdown",
      "metadata": {
        "id": "1-AwVtshnliu"
      },
      "source": [
        "### **Printing Description Matrix**"
      ]
    },
    {
      "cell_type": "code",
      "metadata": {
        "id": "inTjkfM-VRys"
      },
      "source": [
        "df.describe()\n"
      ],
      "execution_count": null,
      "outputs": []
    },
    {
      "cell_type": "markdown",
      "metadata": {
        "id": "152Y7tiEnx1q"
      },
      "source": [
        "### **Printing Correlation Matrix**"
      ]
    },
    {
      "cell_type": "code",
      "metadata": {
        "id": "LfCAtZ7FVRyu"
      },
      "source": [
        "df.corr()"
      ],
      "execution_count": null,
      "outputs": []
    },
    {
      "cell_type": "code",
      "metadata": {
        "id": "Y3NGfx_MVRy0"
      },
      "source": [
        "df['nDays']=df.index\n",
        "df.head()"
      ],
      "execution_count": null,
      "outputs": []
    },
    {
      "cell_type": "code",
      "metadata": {
        "id": "H4MnFLPSVRy3"
      },
      "source": [
        "import seaborn as sns"
      ],
      "execution_count": null,
      "outputs": []
    },
    {
      "cell_type": "markdown",
      "metadata": {
        "id": "f0feXH1roOhX"
      },
      "source": [
        "### **Determining Independent Variables**"
      ]
    },
    {
      "cell_type": "code",
      "metadata": {
        "id": "2BMbeuUfVRy5"
      },
      "source": [
        "sns.regplot(x=\"Prev_Close\",y=\"Close\",data=df)"
      ],
      "execution_count": null,
      "outputs": []
    },
    {
      "cell_type": "code",
      "metadata": {
        "id": "MOPscH90VRy8"
      },
      "source": [
        "sns.regplot(x=\"Volume\",y=\"Close\",data=df)"
      ],
      "execution_count": null,
      "outputs": []
    },
    {
      "cell_type": "code",
      "metadata": {
        "id": "t5b0zuULVRzA"
      },
      "source": [
        "sns.regplot(x=\"Open\",y=\"Close\",data=df)"
      ],
      "execution_count": null,
      "outputs": []
    },
    {
      "cell_type": "code",
      "metadata": {
        "id": "vP9Xs65fVRzE"
      },
      "source": [
        "sns.regplot(x=\"High\",y=\"Close\",data=df)"
      ],
      "execution_count": null,
      "outputs": []
    },
    {
      "cell_type": "code",
      "metadata": {
        "id": "s_qXZcX4VRzG"
      },
      "source": [
        "sns.regplot(x=\"Low\",y=\"Close\",data=df)"
      ],
      "execution_count": null,
      "outputs": []
    },
    {
      "cell_type": "code",
      "metadata": {
        "id": "fXHj4ULjVRzK"
      },
      "source": [
        "sns.regplot(x=\"VWAP\",y=\"Close\",data=df)"
      ],
      "execution_count": null,
      "outputs": []
    },
    {
      "cell_type": "code",
      "metadata": {
        "id": "yUt0cRqvVRzN"
      },
      "source": [
        "sns.regplot(x=\"Turnover\",y=\"Close\",data=df)"
      ],
      "execution_count": null,
      "outputs": []
    },
    {
      "cell_type": "code",
      "metadata": {
        "id": "uW_r-fu5VRzQ"
      },
      "source": [
        "sns.regplot(x=\"Deliverable_Volume\",y=\"Close\",data=df)"
      ],
      "execution_count": null,
      "outputs": []
    },
    {
      "cell_type": "code",
      "metadata": {
        "id": "9iedfU77VRzT"
      },
      "source": [
        "sns.regplot(x=\"%Deliverable\",y=\"Close\",data=df)"
      ],
      "execution_count": null,
      "outputs": []
    },
    {
      "cell_type": "code",
      "metadata": {
        "id": "rczID63RVRzX"
      },
      "source": [
        "sns.regplot(x=\"nDays\",y=\"Close\",data=df)"
      ],
      "execution_count": null,
      "outputs": []
    },
    {
      "cell_type": "code",
      "metadata": {
        "id": "WYSTUC-GVRza"
      },
      "source": [
        "df.head()"
      ],
      "execution_count": null,
      "outputs": []
    },
    {
      "cell_type": "code",
      "metadata": {
        "id": "OqpI-C8HVRzc"
      },
      "source": [
        "from sklearn.linear_model import LinearRegression\n",
        "from sklearn.model_selection import train_test_split\n",
        "import matplotlib.pyplot as plt"
      ],
      "execution_count": null,
      "outputs": []
    },
    {
      "cell_type": "markdown",
      "metadata": {
        "id": "SkJI3hW4oqLJ"
      },
      "source": [
        "# **Training Linear Regression Model**"
      ]
    },
    {
      "cell_type": "code",
      "metadata": {
        "id": "Ug0kabzWVRze"
      },
      "source": [
        "lm=LinearRegression()"
      ],
      "execution_count": null,
      "outputs": []
    },
    {
      "cell_type": "code",
      "metadata": {
        "id": "d7ZapoV-VRzh"
      },
      "source": [
        "X=df[['nDays']]\n",
        "y=df['Close']"
      ],
      "execution_count": null,
      "outputs": []
    },
    {
      "cell_type": "code",
      "metadata": {
        "id": "cWKIpf9WVRzj"
      },
      "source": [
        "X_train,X_test,y_train,y_test=train_test_split(X,y,test_size=0.3,random_state=0)"
      ],
      "execution_count": null,
      "outputs": []
    },
    {
      "cell_type": "code",
      "metadata": {
        "id": "1qLFuAnmVRzn"
      },
      "source": [
        "lm.fit(X_train,y_train)"
      ],
      "execution_count": null,
      "outputs": []
    },
    {
      "cell_type": "code",
      "metadata": {
        "id": "LUsm7kAmVRzr"
      },
      "source": [
        "yhat=lm.predict(X_test)"
      ],
      "execution_count": null,
      "outputs": []
    },
    {
      "cell_type": "code",
      "metadata": {
        "id": "xj02xpgvVRzv"
      },
      "source": [
        "lm.score(X_test,y_test)"
      ],
      "execution_count": null,
      "outputs": []
    },
    {
      "cell_type": "code",
      "metadata": {
        "id": "1Lhb8YGPVRzz"
      },
      "source": [
        "lm.score(X_train,y_train)"
      ],
      "execution_count": null,
      "outputs": []
    },
    {
      "cell_type": "code",
      "metadata": {
        "id": "0LMII62W0-tM"
      },
      "source": [
        "x=X.values.flatten()"
      ],
      "execution_count": null,
      "outputs": []
    },
    {
      "cell_type": "markdown",
      "metadata": {
        "id": "94mUVnQ1o-mr"
      },
      "source": [
        "# **Training Polynomial Regression Model**"
      ]
    },
    {
      "cell_type": "code",
      "metadata": {
        "id": "zTELeB3e4P9s"
      },
      "source": [
        "def PlotPolly(model, independent_variable, dependent_variabble, Name):\n",
        "    x_new = np.linspace(0, 5000, 10000)\n",
        "    y_new = model(x_new)\n",
        "\n",
        "    plt.plot(independent_variable, dependent_variabble, '.', x_new, y_new, '-')\n",
        "    plt.title('Polynomial Fit for Closing Price ~ Date')\n",
        "    ax = plt.gca()\n",
        "    #ax.set_facecolor((0.898, 0.898, 0.898))\n",
        "    ax.set_facecolor((1, 1, 1))\n",
        "    fig = plt.gcf()\n",
        "    plt.xlabel(Name)\n",
        "    plt.ylabel('Closing Price')\n",
        "\n",
        "    plt.show()\n",
        "    plt.close()"
      ],
      "execution_count": null,
      "outputs": []
    },
    {
      "cell_type": "code",
      "metadata": {
        "id": "AIjWwEe_6tZa"
      },
      "source": [
        "import numpy as np\n",
        "import matplotlib.pyplot as plt\n",
        "\n",
        "\n",
        "f=np.polyfit(x,y,51)\n",
        "p=np.poly1d(f)\n"
      ],
      "execution_count": null,
      "outputs": []
    },
    {
      "cell_type": "code",
      "metadata": {
        "id": "Zo5yC9-lVRz3"
      },
      "source": [
        "PlotPolly(p,x,y,'nDays')"
      ],
      "execution_count": null,
      "outputs": []
    },
    {
      "cell_type": "code",
      "metadata": {
        "id": "fubnbYTZVRz5"
      },
      "source": [
        "from sklearn.metrics import r2_score\n",
        "\n",
        "r_squared = r2_score(y, p(x))\n",
        "r_squared"
      ],
      "execution_count": null,
      "outputs": []
    }
  ]
}