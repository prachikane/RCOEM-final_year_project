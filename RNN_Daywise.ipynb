{
  "nbformat": 4,
  "nbformat_minor": 0,
  "metadata": {
    "colab": {
      "provenance": [],
      "collapsed_sections": [],
      "include_colab_link": true
    },
    "kernelspec": {
      "display_name": "Python 3",
      "name": "python3"
    }
  },
  "cells": [
    {
      "cell_type": "markdown",
      "metadata": {
        "id": "view-in-github",
        "colab_type": "text"
      },
      "source": [
        "<a href=\"https://colab.research.google.com/github/prachikane/final_year_project/blob/main/RNN_Daywise.ipynb\" target=\"_parent\"><img src=\"https://colab.research.google.com/assets/colab-badge.svg\" alt=\"Open In Colab\"/></a>"
      ]
    },
    {
      "cell_type": "code",
      "metadata": {
        "id": "U-c242xyzsde"
      },
      "source": [
        "import pandas as pd "
      ],
      "execution_count": null,
      "outputs": []
    },
    {
      "cell_type": "code",
      "metadata": {
        "id": "ZWpRNEs6msJ8",
        "colab": {
          "base_uri": "https://localhost:8080/"
        },
        "outputId": "00609bd8-4f8a-4fb5-872d-e0557df3b08f"
      },
      "source": [
        "from google.colab import drive\n",
        "drive.mount('/content/drive')"
      ],
      "execution_count": null,
      "outputs": [
        {
          "output_type": "stream",
          "text": [
            "Drive already mounted at /content/drive; to attempt to forcibly remount, call drive.mount(\"/content/drive\", force_remount=True).\n"
          ],
          "name": "stdout"
        }
      ]
    },
    {
      "cell_type": "code",
      "metadata": {
        "id": "ZcX-Q0l91LDQ"
      },
      "source": [
        "df=pd.read_csv('/content/drive/My Drive/FinalYearProject/TCS.csv')"
      ],
      "execution_count": null,
      "outputs": []
    },
    {
      "cell_type": "code",
      "metadata": {
        "id": "QzabezThdYuW",
        "colab": {
          "base_uri": "https://localhost:8080/",
          "height": 195
        },
        "outputId": "b32f5775-7998-477a-d4a4-5225622f8f14"
      },
      "source": [
        "df.head()"
      ],
      "execution_count": null,
      "outputs": [
        {
          "output_type": "execute_result",
          "data": {
            "text/html": [
              "<div>\n",
              "<style scoped>\n",
              "    .dataframe tbody tr th:only-of-type {\n",
              "        vertical-align: middle;\n",
              "    }\n",
              "\n",
              "    .dataframe tbody tr th {\n",
              "        vertical-align: top;\n",
              "    }\n",
              "\n",
              "    .dataframe thead th {\n",
              "        text-align: right;\n",
              "    }\n",
              "</style>\n",
              "<table border=\"1\" class=\"dataframe\">\n",
              "  <thead>\n",
              "    <tr style=\"text-align: right;\">\n",
              "      <th></th>\n",
              "      <th>Date</th>\n",
              "      <th>Symbol</th>\n",
              "      <th>Series</th>\n",
              "      <th>Prev Close</th>\n",
              "      <th>Open</th>\n",
              "      <th>High</th>\n",
              "      <th>Low</th>\n",
              "      <th>Last</th>\n",
              "      <th>Close</th>\n",
              "      <th>VWAP</th>\n",
              "      <th>Volume</th>\n",
              "      <th>Turnover</th>\n",
              "      <th>Trades</th>\n",
              "      <th>Deliverable Volume</th>\n",
              "      <th>%Deliverble</th>\n",
              "    </tr>\n",
              "  </thead>\n",
              "  <tbody>\n",
              "    <tr>\n",
              "      <th>0</th>\n",
              "      <td>2004-08-25</td>\n",
              "      <td>TCS</td>\n",
              "      <td>EQ</td>\n",
              "      <td>850.00</td>\n",
              "      <td>1198.7</td>\n",
              "      <td>1198.7</td>\n",
              "      <td>979.00</td>\n",
              "      <td>985.00</td>\n",
              "      <td>987.95</td>\n",
              "      <td>1008.32</td>\n",
              "      <td>17116372</td>\n",
              "      <td>1.725876e+15</td>\n",
              "      <td>NaN</td>\n",
              "      <td>5206360</td>\n",
              "      <td>0.3042</td>\n",
              "    </tr>\n",
              "    <tr>\n",
              "      <th>1</th>\n",
              "      <td>2004-08-26</td>\n",
              "      <td>TCS</td>\n",
              "      <td>EQ</td>\n",
              "      <td>987.95</td>\n",
              "      <td>992.0</td>\n",
              "      <td>997.0</td>\n",
              "      <td>975.30</td>\n",
              "      <td>976.85</td>\n",
              "      <td>979.00</td>\n",
              "      <td>985.65</td>\n",
              "      <td>5055400</td>\n",
              "      <td>4.982865e+14</td>\n",
              "      <td>NaN</td>\n",
              "      <td>1294899</td>\n",
              "      <td>0.2561</td>\n",
              "    </tr>\n",
              "    <tr>\n",
              "      <th>2</th>\n",
              "      <td>2004-08-27</td>\n",
              "      <td>TCS</td>\n",
              "      <td>EQ</td>\n",
              "      <td>979.00</td>\n",
              "      <td>982.4</td>\n",
              "      <td>982.4</td>\n",
              "      <td>958.55</td>\n",
              "      <td>961.20</td>\n",
              "      <td>962.65</td>\n",
              "      <td>969.94</td>\n",
              "      <td>3830750</td>\n",
              "      <td>3.715586e+14</td>\n",
              "      <td>NaN</td>\n",
              "      <td>976527</td>\n",
              "      <td>0.2549</td>\n",
              "    </tr>\n",
              "    <tr>\n",
              "      <th>3</th>\n",
              "      <td>2004-08-30</td>\n",
              "      <td>TCS</td>\n",
              "      <td>EQ</td>\n",
              "      <td>962.65</td>\n",
              "      <td>969.9</td>\n",
              "      <td>990.0</td>\n",
              "      <td>965.00</td>\n",
              "      <td>986.40</td>\n",
              "      <td>986.75</td>\n",
              "      <td>982.65</td>\n",
              "      <td>3058151</td>\n",
              "      <td>3.005106e+14</td>\n",
              "      <td>NaN</td>\n",
              "      <td>701664</td>\n",
              "      <td>0.2294</td>\n",
              "    </tr>\n",
              "    <tr>\n",
              "      <th>4</th>\n",
              "      <td>2004-08-31</td>\n",
              "      <td>TCS</td>\n",
              "      <td>EQ</td>\n",
              "      <td>986.75</td>\n",
              "      <td>986.5</td>\n",
              "      <td>990.0</td>\n",
              "      <td>976.00</td>\n",
              "      <td>987.80</td>\n",
              "      <td>988.10</td>\n",
              "      <td>982.18</td>\n",
              "      <td>2649332</td>\n",
              "      <td>2.602133e+14</td>\n",
              "      <td>NaN</td>\n",
              "      <td>695234</td>\n",
              "      <td>0.2624</td>\n",
              "    </tr>\n",
              "  </tbody>\n",
              "</table>\n",
              "</div>"
            ],
            "text/plain": [
              "         Date Symbol Series  ...  Trades  Deliverable Volume  %Deliverble\n",
              "0  2004-08-25    TCS     EQ  ...     NaN             5206360       0.3042\n",
              "1  2004-08-26    TCS     EQ  ...     NaN             1294899       0.2561\n",
              "2  2004-08-27    TCS     EQ  ...     NaN              976527       0.2549\n",
              "3  2004-08-30    TCS     EQ  ...     NaN              701664       0.2294\n",
              "4  2004-08-31    TCS     EQ  ...     NaN              695234       0.2624\n",
              "\n",
              "[5 rows x 15 columns]"
            ]
          },
          "metadata": {
            "tags": []
          },
          "execution_count": 4
        }
      ]
    },
    {
      "cell_type": "code",
      "metadata": {
        "id": "cDa9ZRpj1moT",
        "colab": {
          "base_uri": "https://localhost:8080/",
          "height": 195
        },
        "outputId": "fcdc7a31-1507-4755-d809-b44b3c710c31"
      },
      "source": [
        "df=df[['Close']]\n",
        "#df['Date']=df.index\n",
        "df.dropna(inplace=True)\n",
        "df.head()"
      ],
      "execution_count": null,
      "outputs": [
        {
          "output_type": "execute_result",
          "data": {
            "text/html": [
              "<div>\n",
              "<style scoped>\n",
              "    .dataframe tbody tr th:only-of-type {\n",
              "        vertical-align: middle;\n",
              "    }\n",
              "\n",
              "    .dataframe tbody tr th {\n",
              "        vertical-align: top;\n",
              "    }\n",
              "\n",
              "    .dataframe thead th {\n",
              "        text-align: right;\n",
              "    }\n",
              "</style>\n",
              "<table border=\"1\" class=\"dataframe\">\n",
              "  <thead>\n",
              "    <tr style=\"text-align: right;\">\n",
              "      <th></th>\n",
              "      <th>Close</th>\n",
              "    </tr>\n",
              "  </thead>\n",
              "  <tbody>\n",
              "    <tr>\n",
              "      <th>0</th>\n",
              "      <td>987.95</td>\n",
              "    </tr>\n",
              "    <tr>\n",
              "      <th>1</th>\n",
              "      <td>979.00</td>\n",
              "    </tr>\n",
              "    <tr>\n",
              "      <th>2</th>\n",
              "      <td>962.65</td>\n",
              "    </tr>\n",
              "    <tr>\n",
              "      <th>3</th>\n",
              "      <td>986.75</td>\n",
              "    </tr>\n",
              "    <tr>\n",
              "      <th>4</th>\n",
              "      <td>988.10</td>\n",
              "    </tr>\n",
              "  </tbody>\n",
              "</table>\n",
              "</div>"
            ],
            "text/plain": [
              "    Close\n",
              "0  987.95\n",
              "1  979.00\n",
              "2  962.65\n",
              "3  986.75\n",
              "4  988.10"
            ]
          },
          "metadata": {
            "tags": []
          },
          "execution_count": 5
        }
      ]
    },
    {
      "cell_type": "code",
      "metadata": {
        "colab": {
          "base_uri": "https://localhost:8080/",
          "height": 402
        },
        "id": "gTGxkjvxyyUy",
        "outputId": "d47fedd6-94fe-4a78-b179-84b95634d3ea"
      },
      "source": [
        "df"
      ],
      "execution_count": null,
      "outputs": [
        {
          "output_type": "execute_result",
          "data": {
            "text/html": [
              "<div>\n",
              "<style scoped>\n",
              "    .dataframe tbody tr th:only-of-type {\n",
              "        vertical-align: middle;\n",
              "    }\n",
              "\n",
              "    .dataframe tbody tr th {\n",
              "        vertical-align: top;\n",
              "    }\n",
              "\n",
              "    .dataframe thead th {\n",
              "        text-align: right;\n",
              "    }\n",
              "</style>\n",
              "<table border=\"1\" class=\"dataframe\">\n",
              "  <thead>\n",
              "    <tr style=\"text-align: right;\">\n",
              "      <th></th>\n",
              "      <th>Close</th>\n",
              "    </tr>\n",
              "  </thead>\n",
              "  <tbody>\n",
              "    <tr>\n",
              "      <th>0</th>\n",
              "      <td>987.95</td>\n",
              "    </tr>\n",
              "    <tr>\n",
              "      <th>1</th>\n",
              "      <td>979.00</td>\n",
              "    </tr>\n",
              "    <tr>\n",
              "      <th>2</th>\n",
              "      <td>962.65</td>\n",
              "    </tr>\n",
              "    <tr>\n",
              "      <th>3</th>\n",
              "      <td>986.75</td>\n",
              "    </tr>\n",
              "    <tr>\n",
              "      <th>4</th>\n",
              "      <td>988.10</td>\n",
              "    </tr>\n",
              "    <tr>\n",
              "      <th>...</th>\n",
              "      <td>...</td>\n",
              "    </tr>\n",
              "    <tr>\n",
              "      <th>3925</th>\n",
              "      <td>2042.20</td>\n",
              "    </tr>\n",
              "    <tr>\n",
              "      <th>3926</th>\n",
              "      <td>2016.10</td>\n",
              "    </tr>\n",
              "    <tr>\n",
              "      <th>3927</th>\n",
              "      <td>2118.85</td>\n",
              "    </tr>\n",
              "    <tr>\n",
              "      <th>3928</th>\n",
              "      <td>2101.65</td>\n",
              "    </tr>\n",
              "    <tr>\n",
              "      <th>3929</th>\n",
              "      <td>2082.15</td>\n",
              "    </tr>\n",
              "  </tbody>\n",
              "</table>\n",
              "<p>3930 rows × 1 columns</p>\n",
              "</div>"
            ],
            "text/plain": [
              "        Close\n",
              "0      987.95\n",
              "1      979.00\n",
              "2      962.65\n",
              "3      986.75\n",
              "4      988.10\n",
              "...       ...\n",
              "3925  2042.20\n",
              "3926  2016.10\n",
              "3927  2118.85\n",
              "3928  2101.65\n",
              "3929  2082.15\n",
              "\n",
              "[3930 rows x 1 columns]"
            ]
          },
          "metadata": {
            "tags": []
          },
          "execution_count": 7
        }
      ]
    },
    {
      "cell_type": "code",
      "metadata": {
        "id": "8hjAZ9WE-R4C",
        "colab": {
          "base_uri": "https://localhost:8080/"
        },
        "outputId": "364af4f7-b13b-4ee6-9507-25466c5c8aab"
      },
      "source": [
        "#normalising data\n",
        "from sklearn import preprocessing \n",
        "\n",
        "scaler = preprocessing.MinMaxScaler() \n",
        "data = scaler.fit_transform(df)\n",
        "data"
      ],
      "execution_count": null,
      "outputs": [
        {
          "output_type": "execute_result",
          "data": {
            "text/plain": [
              "array([[0.19193401],\n",
              "       [0.18916915],\n",
              "       [0.18411826],\n",
              "       ...,\n",
              "       [0.54129532],\n",
              "       [0.53598184],\n",
              "       [0.52995783]])"
            ]
          },
          "metadata": {
            "tags": []
          },
          "execution_count": 8
        }
      ]
    },
    {
      "cell_type": "code",
      "metadata": {
        "id": "KBUNq1ymC0EY",
        "colab": {
          "base_uri": "https://localhost:8080/"
        },
        "outputId": "d61e259c-e2bd-4e5a-e720-b77df0630692"
      },
      "source": [
        "len(data)"
      ],
      "execution_count": null,
      "outputs": [
        {
          "output_type": "execute_result",
          "data": {
            "text/plain": [
              "3930"
            ]
          },
          "metadata": {
            "tags": []
          },
          "execution_count": 9
        }
      ]
    },
    {
      "cell_type": "code",
      "metadata": {
        "id": "ggyn1S3KN8Oh"
      },
      "source": [
        "x_train=data[0:(int)(0.7*len(data))]\n",
        "x_test=data[(int)(0.7*len(data)):len(data)]\n",
        "\n"
      ],
      "execution_count": null,
      "outputs": []
    },
    {
      "cell_type": "code",
      "metadata": {
        "id": "I2ZKgHjEj31T",
        "colab": {
          "base_uri": "https://localhost:8080/"
        },
        "outputId": "3d964ef3-2ef3-4c86-9487-1b7285a979b5"
      },
      "source": [
        "print(len(x_train))\n",
        "print(len(x_test))"
      ],
      "execution_count": null,
      "outputs": [
        {
          "output_type": "stream",
          "text": [
            "2751\n",
            "1179\n"
          ],
          "name": "stdout"
        }
      ]
    },
    {
      "cell_type": "code",
      "metadata": {
        "id": "ZXY4K3tKkCAL",
        "colab": {
          "base_uri": "https://localhost:8080/"
        },
        "outputId": "d287d050-ae88-4765-bc8d-de838b27c882"
      },
      "source": [
        "print(x_test)"
      ],
      "execution_count": null,
      "outputs": [
        {
          "output_type": "stream",
          "text": [
            "[[0.6745957 ]\n",
            " [0.67487373]\n",
            " [0.67481194]\n",
            " ...\n",
            " [0.54129532]\n",
            " [0.53598184]\n",
            " [0.52995783]]\n"
          ],
          "name": "stdout"
        }
      ]
    },
    {
      "cell_type": "code",
      "metadata": {
        "id": "R7ySVZkFDCWL"
      },
      "source": [
        "# gives specific n_steps\n",
        "def get_seq(data,ndx,n_steps):\n",
        "  return data[ndx-n_steps:ndx]"
      ],
      "execution_count": null,
      "outputs": []
    },
    {
      "cell_type": "code",
      "metadata": {
        "id": "PrMeSW_qzN_x"
      },
      "source": [
        "import numpy as np\n",
        "from numpy import array\n",
        "from keras.models import Sequential\n",
        "from keras.layers import LSTM\n",
        "from keras.layers import Dense\n",
        "from keras.layers import Dropout"
      ],
      "execution_count": null,
      "outputs": []
    },
    {
      "cell_type": "code",
      "metadata": {
        "id": "WkM8MaLrzilP"
      },
      "source": [
        "# split a univariate sequence into samples\n",
        "#sequence = data, n_steps=time_steps\n",
        "def split_sequence(sequence, n_steps):\n",
        "\tX, y = list(), list()\n",
        "\tfor i in range(len(sequence)):\n",
        "\t\t# find the end of this pattern\n",
        "\t\tend_ix = i + n_steps\n",
        "\t\t# check if we are beyond the sequence\n",
        "\t\tif end_ix > len(sequence)-1:\n",
        "\t\t\tbreak\n",
        "\t\t# gather input and output parts of the pattern\n",
        "\t\tseq_x, seq_y = sequence[i:end_ix], sequence[end_ix]\n",
        "\t\tX.append(seq_x)\n",
        "\t\ty.append(seq_y)\n",
        "\treturn array(X), array(y)"
      ],
      "execution_count": null,
      "outputs": []
    },
    {
      "cell_type": "code",
      "metadata": {
        "id": "VAsoD6D85DjE",
        "colab": {
          "base_uri": "https://localhost:8080/"
        },
        "outputId": "f8d418da-4caf-45a8-dcf0-cb63f38a123c"
      },
      "source": [
        "# choose number of time steps\n",
        "n_steps = 60\n",
        "\n",
        "# split into samples\n",
        "X, y = split_sequence(x_train, n_steps)\n",
        "\n",
        "# reshape from [samples, timesteps] into [samples, timesteps, features]\n",
        "n_features = 1\n",
        "#X = X.reshape(X.shape[0], X.shape[1], 1)\n",
        "X = X.reshape((X.shape[0], X.shape[1], n_features))\n",
        "\n",
        "# define model\n",
        "model = Sequential()\n",
        "model.add(LSTM(50,return_sequences=True,activation='relu', input_shape=(n_steps, n_features)))\n",
        "model.add(Dropout(0.2))\n",
        "model.add(LSTM(units = 50,activation='relu', return_sequences = True))\n",
        "model.add(Dropout(0.2))\n",
        "model.add(LSTM(units = 50,activation='relu', return_sequences = True))\n",
        "model.add(Dropout(0.2))\n",
        "model.add(LSTM(units = 50,activation='relu'))\n",
        "model.add(Dropout(0.2))\n",
        "model.add(Dense(units = 1,activation='relu'))\n",
        "model.compile(optimizer='adam', loss='mse')\n",
        "\n",
        "# fit model\n",
        "model.fit(X, y, epochs=15,batch_size = 32)\n"
      ],
      "execution_count": null,
      "outputs": [
        {
          "output_type": "stream",
          "text": [
            "Epoch 1/15\n",
            "85/85 [==============================] - 9s 105ms/step - loss: 0.0192\n",
            "Epoch 2/15\n",
            "85/85 [==============================] - 9s 109ms/step - loss: 0.0033\n",
            "Epoch 3/15\n",
            "85/85 [==============================] - 9s 107ms/step - loss: 0.0031\n",
            "Epoch 4/15\n",
            "85/85 [==============================] - 9s 108ms/step - loss: 0.0031\n",
            "Epoch 5/15\n",
            "85/85 [==============================] - 9s 108ms/step - loss: 0.0028\n",
            "Epoch 6/15\n",
            "85/85 [==============================] - 9s 107ms/step - loss: 0.0028\n",
            "Epoch 7/15\n",
            "85/85 [==============================] - 9s 107ms/step - loss: 0.0024\n",
            "Epoch 8/15\n",
            "85/85 [==============================] - 9s 107ms/step - loss: 0.0023\n",
            "Epoch 9/15\n",
            "85/85 [==============================] - 9s 107ms/step - loss: 0.0034\n",
            "Epoch 10/15\n",
            "85/85 [==============================] - 9s 107ms/step - loss: 0.0022\n",
            "Epoch 11/15\n",
            "85/85 [==============================] - 9s 110ms/step - loss: 0.0019\n",
            "Epoch 12/15\n",
            "85/85 [==============================] - 9s 110ms/step - loss: 0.0022\n",
            "Epoch 13/15\n",
            "85/85 [==============================] - 10s 114ms/step - loss: 0.0018\n",
            "Epoch 14/15\n",
            "85/85 [==============================] - 10s 115ms/step - loss: 0.0018\n",
            "Epoch 15/15\n",
            "85/85 [==============================] - 9s 108ms/step - loss: 0.0017\n"
          ],
          "name": "stdout"
        },
        {
          "output_type": "execute_result",
          "data": {
            "text/plain": [
              "<tensorflow.python.keras.callbacks.History at 0x7f5c89d45828>"
            ]
          },
          "metadata": {
            "tags": []
          },
          "execution_count": 16
        }
      ]
    },
    {
      "cell_type": "code",
      "metadata": {
        "id": "FdOo4hJJlH6F",
        "colab": {
          "base_uri": "https://localhost:8080/"
        },
        "outputId": "876f602f-4391-4217-ae56-5a335366aaa0"
      },
      "source": [
        "len(x_train)"
      ],
      "execution_count": null,
      "outputs": [
        {
          "output_type": "execute_result",
          "data": {
            "text/plain": [
              "2751"
            ]
          },
          "metadata": {
            "tags": []
          },
          "execution_count": 17
        }
      ]
    },
    {
      "cell_type": "code",
      "metadata": {
        "id": "Sxf6rtkadWqb",
        "colab": {
          "base_uri": "https://localhost:8080/"
        },
        "outputId": "4575d7ed-1ebd-4231-fd98-b966c8e4bdc8"
      },
      "source": [
        "#predicting\n",
        "new_data=data.copy()\n",
        "\n",
        "x_input=[]\n",
        "for i in range((int)(0.7*len(new_data))-n_steps,len(new_data)):\n",
        "  x_input.append(get_seq(new_data,i-1,n_steps))\n",
        "  \n",
        "x_input=np.array(x_input)\n",
        "x_input = np.reshape(x_input, (x_input.shape[0], x_input.shape[1], 1))\n",
        "\n",
        "yhat = model.predict(x_input)\n",
        "output=scaler.inverse_transform(yhat)\n",
        "output\n"
      ],
      "execution_count": null,
      "outputs": [
        {
          "output_type": "execute_result",
          "data": {
            "text/plain": [
              "array([[2531.5002],\n",
              "       [2527.6365],\n",
              "       [2524.5898],\n",
              "       ...,\n",
              "       [2041.4764],\n",
              "       [2039.7698],\n",
              "       [2038.3928]], dtype=float32)"
            ]
          },
          "metadata": {
            "tags": []
          },
          "execution_count": 18
        }
      ]
    },
    {
      "cell_type": "code",
      "metadata": {
        "id": "oQzImDNGrm2m",
        "colab": {
          "base_uri": "https://localhost:8080/"
        },
        "outputId": "61dc83a1-e9ec-4a71-cf55-93858d7301ae"
      },
      "source": [
        "import matplotlib.pyplot as plt\n",
        "\n",
        "plt.plot(output,color=\"orange\")\n",
        "\n",
        "x_test_new=data[(int)(0.7*len(data)):len(data)]\n",
        "x_test_new=scaler.inverse_transform(x_test_new)\n",
        "plt.plot(x_test_new, color='blue')\n",
        "\n"
      ],
      "execution_count": null,
      "outputs": [
        {
          "output_type": "execute_result",
          "data": {
            "text/plain": [
              "[<matplotlib.lines.Line2D at 0x7f5cc06fc240>]"
            ]
          },
          "metadata": {
            "tags": []
          },
          "execution_count": 19
        },
        {
          "output_type": "display_data",
          "data": {
            "image/png": "[encoded data removed]",
            "text/plain": [
              "<Figure size 432x288 with 1 Axes>"
            ]
          },
          "metadata": {
            "tags": [],
            "needs_background": "light"
          }
        }
      ]
    },
    {
      "cell_type": "code",
      "metadata": {
        "id": "LiJ7SfUdPAi8"
      },
      "source": [
        "from sklearn.metrics import mean_squared_error\n",
        "from math import sqrt"
      ],
      "execution_count": null,
      "outputs": []
    },
    {
      "cell_type": "code",
      "metadata": {
        "colab": {
          "base_uri": "https://localhost:8080/"
        },
        "id": "8AG8Bm4ILWNo",
        "outputId": "28a97acd-7ff6-4af4-92b9-d5eaaaa706bf"
      },
      "source": [
        "actual=data[(int)(0.7*len(data)):len(data)]\n",
        "predicted=output[0:len(x_test)]\n",
        "\n",
        "rmse= sqrt(mean_squared_error(actual, predicted, squared=False))\n",
        "print(rmse)"
      ],
      "execution_count": null,
      "outputs": [
        {
          "output_type": "stream",
          "text": [
            "48.41612139002686\n"
          ],
          "name": "stdout"
        }
      ]
    },
    {
      "cell_type": "code",
      "metadata": {
        "id": "sjQx8HwEVtsM"
      },
      "source": [
        "model.save('/content/drive/MyDrive/FinalYearProject/TCS_model.h5')"
      ],
      "execution_count": null,
      "outputs": []
    }
  ]
}