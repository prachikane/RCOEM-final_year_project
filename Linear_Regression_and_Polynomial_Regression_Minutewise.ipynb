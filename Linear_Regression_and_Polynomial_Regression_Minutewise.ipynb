{
  "nbformat": 4,
  "nbformat_minor": 0,
  "metadata": {
    "colab": {
      "provenance": [],
      "collapsed_sections": [],
      "include_colab_link": true
    },
    "kernelspec": {
      "name": "python3",
      "display_name": "Python 3"
    }
  },
  "cells": [
    {
      "cell_type": "markdown",
      "metadata": {
        "id": "view-in-github",
        "colab_type": "text"
      },
      "source": [
        "<a href=\"https://colab.research.google.com/github/prachikane/final_year_project/blob/main/Linear_Regression_and_Polynomial_Regression_Minutewise.ipynb\" target=\"_parent\"><img src=\"https://colab.research.google.com/assets/colab-badge.svg\" alt=\"Open In Colab\"/></a>"
      ]
    },
    {
      "cell_type": "code",
      "metadata": {
        "id": "NeIOvKA_Fdtl"
      },
      "source": [
        "import pandas as pd"
      ],
      "execution_count": null,
      "outputs": []
    },
    {
      "cell_type": "markdown",
      "metadata": {
        "id": "ddYBGWJUrJHE"
      },
      "source": [
        "# **Reading Data**\n",
        "\n",
        "---\n",
        "\n",
        "\n",
        "\n",
        "---\n",
        "\n"
      ]
    },
    {
      "cell_type": "code",
      "metadata": {
        "id": "9eh784otF8aU",
        "colab": {
          "base_uri": "https://localhost:8080/",
          "height": 204
        },
        "outputId": "e7f63200-d3be-4639-9c5b-3e19e9366c40"
      },
      "source": [
        "df=pd.read_csv('/content/drive/My Drive/ASIANPAINT__EQ__NSE__NSE__MINUTE.csv')\n",
        "df.head()"
      ],
      "execution_count": null,
      "outputs": [
        {
          "output_type": "execute_result",
          "data": {
            "text/html": [
              "<div>\n",
              "<style scoped>\n",
              "    .dataframe tbody tr th:only-of-type {\n",
              "        vertical-align: middle;\n",
              "    }\n",
              "\n",
              "    .dataframe tbody tr th {\n",
              "        vertical-align: top;\n",
              "    }\n",
              "\n",
              "    .dataframe thead th {\n",
              "        text-align: right;\n",
              "    }\n",
              "</style>\n",
              "<table border=\"1\" class=\"dataframe\">\n",
              "  <thead>\n",
              "    <tr style=\"text-align: right;\">\n",
              "      <th></th>\n",
              "      <th>timestamp</th>\n",
              "      <th>open</th>\n",
              "      <th>high</th>\n",
              "      <th>low</th>\n",
              "      <th>close</th>\n",
              "      <th>volume</th>\n",
              "    </tr>\n",
              "  </thead>\n",
              "  <tbody>\n",
              "    <tr>\n",
              "      <th>0</th>\n",
              "      <td>2017-01-02 09:15:00+05:30</td>\n",
              "      <td>892.55</td>\n",
              "      <td>893.10</td>\n",
              "      <td>891.05</td>\n",
              "      <td>893.0</td>\n",
              "      <td>7599.0</td>\n",
              "    </tr>\n",
              "    <tr>\n",
              "      <th>1</th>\n",
              "      <td>2017-01-02 09:16:00+05:30</td>\n",
              "      <td>893.95</td>\n",
              "      <td>894.85</td>\n",
              "      <td>893.20</td>\n",
              "      <td>893.8</td>\n",
              "      <td>3384.0</td>\n",
              "    </tr>\n",
              "    <tr>\n",
              "      <th>2</th>\n",
              "      <td>2017-01-02 09:17:00+05:30</td>\n",
              "      <td>893.40</td>\n",
              "      <td>893.95</td>\n",
              "      <td>893.00</td>\n",
              "      <td>893.2</td>\n",
              "      <td>2638.0</td>\n",
              "    </tr>\n",
              "    <tr>\n",
              "      <th>3</th>\n",
              "      <td>2017-01-02 09:18:00+05:30</td>\n",
              "      <td>892.25</td>\n",
              "      <td>893.20</td>\n",
              "      <td>891.75</td>\n",
              "      <td>892.5</td>\n",
              "      <td>103839.0</td>\n",
              "    </tr>\n",
              "    <tr>\n",
              "      <th>4</th>\n",
              "      <td>2017-01-02 09:19:00+05:30</td>\n",
              "      <td>893.00</td>\n",
              "      <td>893.65</td>\n",
              "      <td>892.70</td>\n",
              "      <td>893.5</td>\n",
              "      <td>1696.0</td>\n",
              "    </tr>\n",
              "  </tbody>\n",
              "</table>\n",
              "</div>"
            ],
            "text/plain": [
              "                   timestamp    open    high     low  close    volume\n",
              "0  2017-01-02 09:15:00+05:30  892.55  893.10  891.05  893.0    7599.0\n",
              "1  2017-01-02 09:16:00+05:30  893.95  894.85  893.20  893.8    3384.0\n",
              "2  2017-01-02 09:17:00+05:30  893.40  893.95  893.00  893.2    2638.0\n",
              "3  2017-01-02 09:18:00+05:30  892.25  893.20  891.75  892.5  103839.0\n",
              "4  2017-01-02 09:19:00+05:30  893.00  893.65  892.70  893.5    1696.0"
            ]
          },
          "metadata": {
            "tags": []
          },
          "execution_count": 2
        }
      ]
    },
    {
      "cell_type": "markdown",
      "metadata": {
        "id": "s-iEGAQ5_DkH"
      },
      "source": [
        "### **Printing Correlation Matrix**"
      ]
    },
    {
      "cell_type": "code",
      "metadata": {
        "id": "2RK7H8nPHQl8",
        "colab": {
          "base_uri": "https://localhost:8080/",
          "height": 204
        },
        "outputId": "fb9ae5db-a9ee-4c3a-d269-361f2e2890b6"
      },
      "source": [
        "df.corr()\n"
      ],
      "execution_count": null,
      "outputs": [
        {
          "output_type": "execute_result",
          "data": {
            "text/html": [
              "<div>\n",
              "<style scoped>\n",
              "    .dataframe tbody tr th:only-of-type {\n",
              "        vertical-align: middle;\n",
              "    }\n",
              "\n",
              "    .dataframe tbody tr th {\n",
              "        vertical-align: top;\n",
              "    }\n",
              "\n",
              "    .dataframe thead th {\n",
              "        text-align: right;\n",
              "    }\n",
              "</style>\n",
              "<table border=\"1\" class=\"dataframe\">\n",
              "  <thead>\n",
              "    <tr style=\"text-align: right;\">\n",
              "      <th></th>\n",
              "      <th>open</th>\n",
              "      <th>high</th>\n",
              "      <th>low</th>\n",
              "      <th>close</th>\n",
              "      <th>volume</th>\n",
              "    </tr>\n",
              "  </thead>\n",
              "  <tbody>\n",
              "    <tr>\n",
              "      <th>open</th>\n",
              "      <td>1.000000</td>\n",
              "      <td>0.999992</td>\n",
              "      <td>0.999992</td>\n",
              "      <td>0.999988</td>\n",
              "      <td>0.133643</td>\n",
              "    </tr>\n",
              "    <tr>\n",
              "      <th>high</th>\n",
              "      <td>0.999992</td>\n",
              "      <td>1.000000</td>\n",
              "      <td>0.999985</td>\n",
              "      <td>0.999993</td>\n",
              "      <td>0.134774</td>\n",
              "    </tr>\n",
              "    <tr>\n",
              "      <th>low</th>\n",
              "      <td>0.999992</td>\n",
              "      <td>0.999985</td>\n",
              "      <td>1.000000</td>\n",
              "      <td>0.999993</td>\n",
              "      <td>0.132577</td>\n",
              "    </tr>\n",
              "    <tr>\n",
              "      <th>close</th>\n",
              "      <td>0.999988</td>\n",
              "      <td>0.999993</td>\n",
              "      <td>0.999993</td>\n",
              "      <td>1.000000</td>\n",
              "      <td>0.133736</td>\n",
              "    </tr>\n",
              "    <tr>\n",
              "      <th>volume</th>\n",
              "      <td>0.133643</td>\n",
              "      <td>0.134774</td>\n",
              "      <td>0.132577</td>\n",
              "      <td>0.133736</td>\n",
              "      <td>1.000000</td>\n",
              "    </tr>\n",
              "  </tbody>\n",
              "</table>\n",
              "</div>"
            ],
            "text/plain": [
              "            open      high       low     close    volume\n",
              "open    1.000000  0.999992  0.999992  0.999988  0.133643\n",
              "high    0.999992  1.000000  0.999985  0.999993  0.134774\n",
              "low     0.999992  0.999985  1.000000  0.999993  0.132577\n",
              "close   0.999988  0.999993  0.999993  1.000000  0.133736\n",
              "volume  0.133643  0.134774  0.132577  0.133736  1.000000"
            ]
          },
          "metadata": {
            "tags": []
          },
          "execution_count": 4
        }
      ]
    },
    {
      "cell_type": "code",
      "metadata": {
        "id": "AQf9IUOBHsEv"
      },
      "source": [
        "df['time']=df.index"
      ],
      "execution_count": null,
      "outputs": []
    },
    {
      "cell_type": "code",
      "metadata": {
        "id": "o862NVnbLdOG"
      },
      "source": [
        "df.describe()\n",
        "df.dropna(inplace=True)"
      ],
      "execution_count": null,
      "outputs": []
    },
    {
      "cell_type": "code",
      "metadata": {
        "id": "IZp4VPvqIF_Y",
        "colab": {
          "base_uri": "https://localhost:8080/",
          "height": 235
        },
        "outputId": "b48efdcf-1932-4bc3-d63d-ef8880f76cee"
      },
      "source": [
        "df.corr()"
      ],
      "execution_count": null,
      "outputs": [
        {
          "output_type": "execute_result",
          "data": {
            "text/html": [
              "<div>\n",
              "<style scoped>\n",
              "    .dataframe tbody tr th:only-of-type {\n",
              "        vertical-align: middle;\n",
              "    }\n",
              "\n",
              "    .dataframe tbody tr th {\n",
              "        vertical-align: top;\n",
              "    }\n",
              "\n",
              "    .dataframe thead th {\n",
              "        text-align: right;\n",
              "    }\n",
              "</style>\n",
              "<table border=\"1\" class=\"dataframe\">\n",
              "  <thead>\n",
              "    <tr style=\"text-align: right;\">\n",
              "      <th></th>\n",
              "      <th>open</th>\n",
              "      <th>high</th>\n",
              "      <th>low</th>\n",
              "      <th>close</th>\n",
              "      <th>volume</th>\n",
              "      <th>time</th>\n",
              "    </tr>\n",
              "  </thead>\n",
              "  <tbody>\n",
              "    <tr>\n",
              "      <th>open</th>\n",
              "      <td>1.000000</td>\n",
              "      <td>0.999992</td>\n",
              "      <td>0.999992</td>\n",
              "      <td>0.999988</td>\n",
              "      <td>0.133643</td>\n",
              "      <td>0.920845</td>\n",
              "    </tr>\n",
              "    <tr>\n",
              "      <th>high</th>\n",
              "      <td>0.999992</td>\n",
              "      <td>1.000000</td>\n",
              "      <td>0.999985</td>\n",
              "      <td>0.999993</td>\n",
              "      <td>0.134774</td>\n",
              "      <td>0.920969</td>\n",
              "    </tr>\n",
              "    <tr>\n",
              "      <th>low</th>\n",
              "      <td>0.999992</td>\n",
              "      <td>0.999985</td>\n",
              "      <td>1.000000</td>\n",
              "      <td>0.999993</td>\n",
              "      <td>0.132577</td>\n",
              "      <td>0.920706</td>\n",
              "    </tr>\n",
              "    <tr>\n",
              "      <th>close</th>\n",
              "      <td>0.999988</td>\n",
              "      <td>0.999993</td>\n",
              "      <td>0.999993</td>\n",
              "      <td>1.000000</td>\n",
              "      <td>0.133736</td>\n",
              "      <td>0.920845</td>\n",
              "    </tr>\n",
              "    <tr>\n",
              "      <th>volume</th>\n",
              "      <td>0.133643</td>\n",
              "      <td>0.134774</td>\n",
              "      <td>0.132577</td>\n",
              "      <td>0.133736</td>\n",
              "      <td>1.000000</td>\n",
              "      <td>0.161460</td>\n",
              "    </tr>\n",
              "    <tr>\n",
              "      <th>time</th>\n",
              "      <td>0.920845</td>\n",
              "      <td>0.920969</td>\n",
              "      <td>0.920706</td>\n",
              "      <td>0.920845</td>\n",
              "      <td>0.161460</td>\n",
              "      <td>1.000000</td>\n",
              "    </tr>\n",
              "  </tbody>\n",
              "</table>\n",
              "</div>"
            ],
            "text/plain": [
              "            open      high       low     close    volume      time\n",
              "open    1.000000  0.999992  0.999992  0.999988  0.133643  0.920845\n",
              "high    0.999992  1.000000  0.999985  0.999993  0.134774  0.920969\n",
              "low     0.999992  0.999985  1.000000  0.999993  0.132577  0.920706\n",
              "close   0.999988  0.999993  0.999993  1.000000  0.133736  0.920845\n",
              "volume  0.133643  0.134774  0.132577  0.133736  1.000000  0.161460\n",
              "time    0.920845  0.920969  0.920706  0.920845  0.161460  1.000000"
            ]
          },
          "metadata": {
            "tags": []
          },
          "execution_count": 6
        }
      ]
    },
    {
      "cell_type": "markdown",
      "metadata": {
        "id": "iS5I2V21_RM2"
      },
      "source": [
        "### **Determining Independent Variables**"
      ]
    },
    {
      "cell_type": "code",
      "metadata": {
        "id": "Iv4cWEjeIOcn",
        "colab": {
          "base_uri": "https://localhost:8080/",
          "height": 71
        },
        "outputId": "213ee0a5-16b0-4578-de91-4707c1ab5267"
      },
      "source": [
        "import seaborn as sns"
      ],
      "execution_count": null,
      "outputs": [
        {
          "output_type": "stream",
          "text": [
            "/usr/local/lib/python3.6/dist-packages/statsmodels/tools/_testing.py:19: FutureWarning: pandas.util.testing is deprecated. Use the functions in the public API at pandas.testing instead.\n",
            "  import pandas.util.testing as tm\n"
          ],
          "name": "stderr"
        }
      ]
    },
    {
      "cell_type": "code",
      "metadata": {
        "id": "4_5R1FqfIUnf",
        "colab": {
          "base_uri": "https://localhost:8080/",
          "height": 296
        },
        "outputId": "47413da8-e7ed-4a0e-e7a5-2b3f2e6b011b"
      },
      "source": [
        "sns.regplot(x=\"time\",y=\"close\",data=df)"
      ],
      "execution_count": null,
      "outputs": [
        {
          "output_type": "execute_result",
          "data": {
            "text/plain": [
              "<matplotlib.axes._subplots.AxesSubplot at 0x7fe18758ce10>"
            ]
          },
          "metadata": {
            "tags": []
          },
          "execution_count": 10
        },
        {
          "output_type": "display_data",
          "data": {
            "image/png": "[encoded data removed]",
            "text/plain": [
              "<Figure size 432x288 with 1 Axes>"
            ]
          },
          "metadata": {
            "tags": [],
            "needs_background": "light"
          }
        }
      ]
    },
    {
      "cell_type": "markdown",
      "metadata": {
        "id": "8Yoo58vA_cYR"
      },
      "source": [
        "# **Training Linear Regression Model**"
      ]
    },
    {
      "cell_type": "code",
      "metadata": {
        "id": "COvJ2pd-IjNf"
      },
      "source": [
        "from sklearn.linear_model import LinearRegression\n",
        "from sklearn.model_selection import train_test_split\n",
        "import matplotlib.pyplot as plt"
      ],
      "execution_count": null,
      "outputs": []
    },
    {
      "cell_type": "code",
      "metadata": {
        "id": "6UO3NY_7I8eX"
      },
      "source": [
        "lm=LinearRegression()\n",
        "X=df[['time']]\n",
        "y=df['close']\n",
        "X_train,X_test,y_train,y_test=train_test_split(X,y,test_size=0.3,random_state=0)"
      ],
      "execution_count": null,
      "outputs": []
    },
    {
      "cell_type": "code",
      "metadata": {
        "id": "ApgUsHzNJJP3",
        "colab": {
          "base_uri": "https://localhost:8080/",
          "height": 34
        },
        "outputId": "37e0c34c-de6c-48e8-b447-45bd2137b7d8"
      },
      "source": [
        "lm.fit(X_train,y_train)"
      ],
      "execution_count": null,
      "outputs": [
        {
          "output_type": "execute_result",
          "data": {
            "text/plain": [
              "LinearRegression(copy_X=True, fit_intercept=True, n_jobs=None, normalize=False)"
            ]
          },
          "metadata": {
            "tags": []
          },
          "execution_count": 33
        }
      ]
    },
    {
      "cell_type": "code",
      "metadata": {
        "id": "UKW0sRDeM9t7",
        "colab": {
          "base_uri": "https://localhost:8080/",
          "height": 34
        },
        "outputId": "a54a73d9-08ef-4417-da5e-ed5f7005b208"
      },
      "source": [
        "lm.score(X_train,y_train)"
      ],
      "execution_count": null,
      "outputs": [
        {
          "output_type": "execute_result",
          "data": {
            "text/plain": [
              "0.84799336653877"
            ]
          },
          "metadata": {
            "tags": []
          },
          "execution_count": 37
        }
      ]
    },
    {
      "cell_type": "code",
      "metadata": {
        "id": "9YT8MFqyJJ3I",
        "colab": {
          "base_uri": "https://localhost:8080/",
          "height": 34
        },
        "outputId": "f44e24ad-c20e-4727-ff9b-a66e20a72346"
      },
      "source": [
        "lm.score(X_test,y_test)"
      ],
      "execution_count": null,
      "outputs": [
        {
          "output_type": "execute_result",
          "data": {
            "text/plain": [
              "0.847858396911003"
            ]
          },
          "metadata": {
            "tags": []
          },
          "execution_count": 36
        }
      ]
    },
    {
      "cell_type": "markdown",
      "metadata": {
        "id": "3h8JbX7Z_hBD"
      },
      "source": [
        "# **Training Polynomial Regression Model**"
      ]
    },
    {
      "cell_type": "code",
      "metadata": {
        "id": "lgkwI1hmNLX-"
      },
      "source": [
        "import numpy as np\n",
        "import matplotlib.pyplot as plt\n",
        "X1=df[['time']]\n",
        "y1=df[['close']]\n"
      ],
      "execution_count": null,
      "outputs": []
    },
    {
      "cell_type": "code",
      "metadata": {
        "id": "PkWh18kyRbbo"
      },
      "source": [
        "from sklearn.preprocessing import PolynomialFeatures "
      ],
      "execution_count": null,
      "outputs": []
    },
    {
      "cell_type": "code",
      "metadata": {
        "id": "c2iGU9-b0Ea-",
        "colab": {
          "base_uri": "https://localhost:8080/",
          "height": 34
        },
        "outputId": "8e212926-2d3c-4d5f-d2f4-8b33201972ae"
      },
      "source": [
        "polynomial = PolynomialFeatures(degree = 6) \n",
        "X_polynomial = polynomial.fit_transform(X1) \n",
        "  \n",
        "polynomial.fit(X_polynomial, y) \n",
        "lm2 = LinearRegression() \n",
        "lm2.fit(X_polynomial, y1) "
      ],
      "execution_count": null,
      "outputs": [
        {
          "output_type": "execute_result",
          "data": {
            "text/plain": [
              "LinearRegression(copy_X=True, fit_intercept=True, n_jobs=None, normalize=False)"
            ]
          },
          "metadata": {
            "tags": []
          },
          "execution_count": 151
        }
      ]
    },
    {
      "cell_type": "code",
      "metadata": {
        "id": "1WpGvYv2NQgv",
        "colab": {
          "base_uri": "https://localhost:8080/",
          "height": 34
        },
        "outputId": "40bf170d-bb75-4b4b-9e5a-809b1b2be254"
      },
      "source": [
        "lm2.score(X_polynomial,y1)"
      ],
      "execution_count": null,
      "outputs": [
        {
          "output_type": "execute_result",
          "data": {
            "text/plain": [
              "0.8447505563583277"
            ]
          },
          "metadata": {
            "tags": []
          },
          "execution_count": 150
        }
      ]
    },
    {
      "cell_type": "code",
      "metadata": {
        "id": "YdPIVxJ1OKau",
        "colab": {
          "base_uri": "https://localhost:8080/",
          "height": 295
        },
        "outputId": "24053ddc-a252-4fe4-e2bf-9196b2509a9a"
      },
      "source": [
        "plt.scatter(X1, y1) \n",
        "  \n",
        "plt.plot(X1, lm2.predict(polynomial.fit_transform(X1)), color = 'red') \n",
        "plt.title('Polynomial Regression') \n",
        "plt.xlabel('Time') \n",
        "\n",
        "plt.ylabel('Close') \n",
        "  \n",
        "plt.show() "
      ],
      "execution_count": null,
      "outputs": [
        {
          "output_type": "display_data",
          "data": {
            "image/png": "[encoded data removed]",
            "text/plain": [
              "<Figure size 432x288 with 1 Axes>"
            ]
          },
          "metadata": {
            "tags": [],
            "needs_background": "light"
          }
        }
      ]
    },
    {
      "cell_type": "code",
      "metadata": {
        "id": "jLmepjQRAx99"
      },
      "source": [],
      "execution_count": null,
      "outputs": []
    }
  ]
}